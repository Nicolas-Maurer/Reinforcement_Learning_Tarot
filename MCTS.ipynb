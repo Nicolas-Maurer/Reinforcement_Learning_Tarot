{
 "cells": [
  {
   "cell_type": "code",
   "execution_count": 1,
   "id": "7670bc19",
   "metadata": {},
   "outputs": [],
   "source": [
    "%run Deck.ipynb\n",
    "%run Player.ipynb\n",
    "%run Board.ipynb"
   ]
  },
  {
   "cell_type": "code",
   "execution_count": 2,
   "id": "a80aa63a",
   "metadata": {},
   "outputs": [],
   "source": [
    "class MonteCarloTreeSearchNode():\n",
    "    \n",
    "    def __init__(self, state, parent=None, parent_action=None, name=None):\n",
    "        self.state = state\n",
    "        self.parent = parent\n",
    "        self.name = name\n",
    "        self.parent_action = parent_action\n",
    "        self.children = []\n",
    "        self._number_of_visits = 0\n",
    "        self.t_score = 0\n",
    "\n",
    "        self._results = defaultdict(int)\n",
    "        self._results[1] = 0\n",
    "        self._results[-1] = 0"
   ]
  }
 ],
 "metadata": {
  "kernelspec": {
   "display_name": "Python 3",
   "language": "python",
   "name": "python3"
  },
  "language_info": {
   "codemirror_mode": {
    "name": "ipython",
    "version": 3
   },
   "file_extension": ".py",
   "mimetype": "text/x-python",
   "name": "python",
   "nbconvert_exporter": "python",
   "pygments_lexer": "ipython3",
   "version": "3.9.5"
  }
 },
 "nbformat": 4,
 "nbformat_minor": 5
}
