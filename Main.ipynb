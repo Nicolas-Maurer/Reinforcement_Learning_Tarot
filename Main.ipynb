{
 "cells": [
  {
   "cell_type": "code",
   "execution_count": null,
   "id": "624157ee",
   "metadata": {},
   "outputs": [],
   "source": [
    "%run Deck.ipynb\n",
    "%run Player.ipynb\n",
    "%run Board.ipynb\n",
    "%run MCTS.ipynb"
   ]
  },
  {
   "cell_type": "code",
   "execution_count": null,
   "id": "1abac4f3",
   "metadata": {},
   "outputs": [],
   "source": [
    "new_board = Board(deck=deck)\n",
    "root = MonteCarloTreeSearchNode(state = new_board, name = \"root\")"
   ]
  },
  {
   "cell_type": "code",
   "execution_count": null,
   "id": "f520ea71",
   "metadata": {},
   "outputs": [],
   "source": [
    "nb_simulations = 100\n",
    "root.best_action(nb_simulations)"
   ]
  },
  {
   "cell_type": "code",
   "execution_count": null,
   "id": "2c6882ad",
   "metadata": {},
   "outputs": [],
   "source": [
    "def expand_tree(i, root):\n",
    "    \n",
    "    node = root\n",
    "    if node.children:\n",
    "        i += 1\n",
    "        for child in node.children:\n",
    "            print(\"----\"*i, child.name, child.state.player1.actual_score)\n",
    "\n",
    "            node = child\n",
    "            expand_tree(i, node)"
   ]
  },
  {
   "cell_type": "code",
   "execution_count": null,
   "id": "2fb262f2",
   "metadata": {},
   "outputs": [],
   "source": [
    "#expand_tree(-1, root)"
   ]
  }
 ],
 "metadata": {
  "kernelspec": {
   "display_name": "Python 3",
   "language": "python",
   "name": "python3"
  },
  "language_info": {
   "codemirror_mode": {
    "name": "ipython",
    "version": 3
   },
   "file_extension": ".py",
   "mimetype": "text/x-python",
   "name": "python",
   "nbconvert_exporter": "python",
   "pygments_lexer": "ipython3",
   "version": "3.9.5"
  }
 },
 "nbformat": 4,
 "nbformat_minor": 5
}
